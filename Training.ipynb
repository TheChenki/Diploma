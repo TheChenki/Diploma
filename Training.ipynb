{
  "nbformat": 4,
  "nbformat_minor": 0,
  "metadata": {
    "colab": {
      "name": "Training.ipynb",
      "provenance": [],
      "collapsed_sections": []
    },
    "kernelspec": {
      "name": "python3",
      "display_name": "Python 3"
    },
    "language_info": {
      "name": "python"
    },
    "accelerator": "GPU"
  },
  "cells": [
    {
      "cell_type": "markdown",
      "metadata": {
        "id": "9JUZwHI8aQNx"
      },
      "source": [
        "# Импорт необходимых библиотек"
      ]
    },
    {
      "cell_type": "code",
      "metadata": {
        "id": "hqJqWCjk7Cnu"
      },
      "source": [
        "import keras\n",
        "from keras.layers import Dense\n",
        "from keras.models import Sequential\n",
        "\n",
        "from sklearn.preprocessing import MinMaxScaler\n",
        "\n",
        "import pandas as pd\n",
        "import numpy as np\n",
        "import matplotlib.pyplot as plt"
      ],
      "execution_count": null,
      "outputs": []
    },
    {
      "cell_type": "markdown",
      "metadata": {
        "id": "cbNpfuzeRHMw"
      },
      "source": [
        "# Преобразование категорий в числа"
      ]
    },
    {
      "cell_type": "code",
      "metadata": {
        "id": "nKkw2WzPVQqI"
      },
      "source": [
        "X_train = pd.read_csv(\"../content/train.csv\")\n",
        "\n",
        "X_train = X_train.fillna(0)\n",
        "\n",
        "X_train['MSZoning'] = X_train['MSZoning'].astype('category')\n",
        "X_train['MSZoning'] = X_train['MSZoning'].cat.rename_categories({'A': 0, 'C': 1, 'FV': 2, 'I': 3, 'RH': 4, 'RL': 5, 'RP': 6, 'RM': 7})\n",
        "X_train = X_train.drop('MSZoning', 1)\n",
        "X_train = X_train.drop('MSSubClass', 1)\n",
        "\n",
        "X_train['Street'] = X_train['Street'].astype('category')\n",
        "X_train['Street'] = X_train['Street'].cat.rename_categories({'Grvl': 0, 'Pave': 1})\n",
        "\n",
        "X_train['Alley'] = X_train['Alley'].astype('category')\n",
        "X_train['Alley'] = X_train['Alley'].cat.rename_categories({'Grvl': 1, 'Pave': 2})\n",
        "\n",
        "X_train['LotShape'] = X_train['LotShape'].astype('category')\n",
        "X_train['LotShape'] = X_train['LotShape'].cat.rename_categories({'Reg': 0, 'IR1': 1, 'IR2': 2, 'IR3': 3})\n",
        "\n",
        "X_train['LandContour'] = X_train['LandContour'].astype('category')\n",
        "X_train['LandContour'] = X_train['LandContour'].cat.rename_categories({'Lvl': 0, 'Bnk': 1, 'HLS': 2, 'Low': 3})\n",
        "\n",
        "X_train['Utilities'] = X_train['Utilities'].astype('category')\n",
        "X_train['Utilities'] = X_train['Utilities'].cat.rename_categories({'AllPub': 0, 'NoSewr': 1, 'NoSeWa': 2, 'ELO': 3})\n",
        "\n",
        "X_train['LotConfig'] = X_train['LotConfig'].astype('category')\n",
        "X_train['LotConfig'] = X_train['LotConfig'].cat.rename_categories({'Inside': 0, 'Corner': 1, 'CulDSac': 2, 'FR2': 3, 'FR3': 4})\n",
        "\n",
        "X_train['LandSlope'] = X_train['LandSlope'].astype('category')\n",
        "X_train['LandSlope'] = X_train['LandSlope'].cat.rename_categories({'Gtl': 0, 'Mod': 1, 'Sev': 2})\n",
        "\n",
        "X_train['Neighborhood'] = X_train['Neighborhood'].astype('category')\n",
        "X_train['Neighborhood'] = X_train['Neighborhood'].cat.rename_categories({'Blmngtn': 0, 'Blueste': 1, 'BrDale': 2, 'BrkSide': 3, 'ClearCr': 4, 'CollgCr': 5,\n",
        "                                                                         'Crawfor': 6, 'Edwards': 7, 'Gilbert': 8, 'IDOTRR': 9, 'MeadowV': 10, 'Mitchel': 11,\n",
        "                                                                         'NAmes': 12, 'NoRidge': 13, 'NPkVill': 14, 'NridgHt': 15, 'NWAmes': 16, 'OldTown': 17,\n",
        "                                                                         'SWISU': 18, 'Sawyer': 19, 'SawyerW': 20, 'Somerst': 21, 'StoneBr': 22, 'Timber': 23, 'Veenker': 24})\n",
        "\n",
        "X_train = X_train.drop('Condition1', 1)\n",
        "X_train = X_train.drop('Condition2', 1)\n",
        "\n",
        "X_train['BldgType'] = X_train['BldgType'].astype('category')\n",
        "X_train['BldgType'] = X_train['BldgType'].cat.rename_categories({'1Fam': 0, '2FmCon': 1, 'Duplx': 2, 'TwnhsE': 3, 'TwnhsI': 4})\n",
        "\n",
        "X_train['HouseStyle'] = X_train['HouseStyle'].astype('category')\n",
        "X_train['HouseStyle'] = X_train['HouseStyle'].cat.rename_categories({'1Story': 0, '1.5Fin': 1, '1.5Unf': 2, '2Story': 3, '2.5Fin': 4, '2.5Unf': 5, 'SFoyer': 6, 'SLvl': 7})\n",
        "\n",
        "X_train['RoofStyle'] = X_train['RoofStyle'].astype('category')\n",
        "X_train['RoofStyle'] = X_train['RoofStyle'].cat.rename_categories({'Flat': 0, 'Gable': 1, 'Gambrel': 2, 'Hip': 3, 'Mansard': 4, 'Shed': 5})\n",
        "\n",
        "X_train['RoofMatl'] = X_train['RoofMatl'].astype('category')\n",
        "X_train['RoofMatl'] = X_train['RoofMatl'].cat.rename_categories({'ClyTile': 0, 'CompShg': 1, 'Membran': 2, 'Metal': 3, 'Roll': 4, 'Tar&Grv': 5, 'WdShake': 6, 'WdShngl': 7})\n",
        "\n",
        "X_train['Exterior1st'] = X_train['Exterior1st'].astype('category')\n",
        "X_train['Exterior1st'] = X_train['Exterior1st'].cat.rename_categories({'AsbShng': 0, 'AsphShn': 1, 'BrkComm': 2, 'BrkFace': 3, 'CBlock': 4, 'CemntBd': 5,\n",
        "                                                                       'HdBoard': 6, 'ImStucc': 7, 'MetalSd': 8, 'Other': 9, 'Plywood': 10, 'PreCast': 11,\n",
        "                                                                       'Stone': 12, 'Stucco': 13, 'VinylSd': 14, 'Wd Sdng': 15, 'WdShing': 16})\n",
        "\n",
        "X_train['Exterior2nd'] = X_train['Exterior2nd'].astype('category')\n",
        "X_train['Exterior2nd'] = X_train['Exterior2nd'].cat.rename_categories({'AsbShng': 0, 'AsphShn': 1, 'BrkComm': 2, 'BrkFace': 3, 'CBlock': 4, 'CemntBd': 5, 'HdBoard': 6, 'ImStucc': 7, 'MetalSd': 8, 'Other': 9, 'Plywood': 10, 'PreCast': 11, 'Stone': 12, 'Stucco': 13, 'VinylSd': 14, 'Wd Sdng': 15, 'WdShing': 16})\n",
        "\n",
        "X_train.loc[X_train['MasVnrType'] == 0, 'MasVnrType'] = 5\n",
        "X_train['MasVnrType'] = X_train['MasVnrType'].astype('category')\n",
        "X_train['MasVnrType'] = X_train['MasVnrType'].cat.rename_categories({'BrkCmn': 0, 'BrkFace': 1, 'CBlock': 2, 'None': 3, 'Stone': 4})\n",
        "X_train.loc[X_train['MasVnrType'] == 5, 'MasVnrType'] = 3\n",
        "\n",
        "X_train['ExterQual'] = X_train['ExterQual'].astype('category')\n",
        "X_train['ExterQual'] = X_train['ExterQual'].cat.rename_categories({'Ex': 0, 'Gd': 1, 'TA': 2, 'Fa': 3, 'Po': 4})\n",
        "\n",
        "X_train['ExterCond'] = X_train['ExterCond'].astype('category')\n",
        "X_train['ExterCond'] = X_train['ExterCond'].cat.rename_categories({'Ex': 0, 'Gd': 1, 'TA': 2, 'Fa': 3, 'Po': 4})\n",
        "\n",
        "X_train['Foundation'] = X_train['Foundation'].astype('category')\n",
        "X_train['Foundation'] = X_train['Foundation'].cat.rename_categories({'BrkTil': 0, 'CBlock': 1, 'PConc': 2, 'Slab': 3, 'Stone': 4, 'Wood': 5})\n",
        "\n",
        "X_train.loc[X_train['BsmtQual'] == 0, 'BsmtQual'] = 5\n",
        "X_train['BsmtQual'] = X_train['BsmtQual'].astype('category')\n",
        "X_train['BsmtQual'] = X_train['BsmtQual'].cat.rename_categories({'Ex': 0, 'Gd': 1, 'TA': 2, 'Fa': 3, 'Po': 4})\n",
        "\n",
        "X_train.loc[X_train['BsmtCond'] == 0, 'BsmtCond'] = 5\n",
        "X_train['BsmtCond'] = X_train['BsmtCond'].astype('category')\n",
        "X_train['BsmtCond'] = X_train['BsmtCond'].cat.rename_categories({'Ex': 0, 'Gd': 1, 'TA': 2, 'Fa': 3, 'Po': 4})\n",
        "\n",
        "X_train.loc[X_train['BsmtExposure'] == 0, 'BsmtExposure'] = 4\n",
        "X_train['BsmtExposure'] = X_train['BsmtExposure'].astype('category')\n",
        "X_train['BsmtExposure'] = X_train['BsmtExposure'].cat.rename_categories({'Gd': 0, 'Av': 1, 'Mn': 2, 'No': 3})\n",
        "\n",
        "X_train.loc[X_train['BsmtFinType1'] == 0, 'BsmtFinType1'] = 6\n",
        "X_train['BsmtFinType1'] = X_train['BsmtFinType1'].astype('category')\n",
        "X_train['BsmtFinType1'] = X_train['BsmtFinType1'].cat.rename_categories({'GLQ': 0, 'ALQ': 1, 'BLQ': 2, 'Rec': 3, 'LwQ': 4, 'Unf': 5})\n",
        "\n",
        "X_train.loc[X_train['BsmtFinType2'] == 0, 'BsmtFinType2'] = 6\n",
        "X_train['BsmtFinType2'] = X_train['BsmtFinType2'].astype('category')\n",
        "X_train['BsmtFinType2'] = X_train['BsmtFinType2'].cat.rename_categories({'GLQ': 0, 'ALQ': 1, 'BLQ': 2, 'Rec': 3, 'LwQ': 4, 'Unf': 5})\n",
        "\n",
        "X_train['Heating'] = X_train['Heating'].astype('category')\n",
        "X_train['Heating'] = X_train['Heating'].cat.rename_categories({'Floor': 0, 'GasA': 1, 'GasW': 2, 'Grav': 3, 'OthW': 4, 'Wall': 5})\n",
        "\n",
        "X_train['HeatingQC'] = X_train['HeatingQC'].astype('category')\n",
        "X_train['HeatingQC'] = X_train['HeatingQC'].cat.rename_categories({'Ex': 0, 'Gd': 1, 'TA': 2, 'Fa': 3, 'Po': 4})\n",
        "\n",
        "X_train['CentralAir'] = X_train['CentralAir'].astype('category')\n",
        "X_train['CentralAir'] = X_train['CentralAir'].cat.rename_categories({'N': 0, 'Y': 1})\n",
        "\n",
        "X_train['Electrical'] = X_train['Electrical'].astype('category')\n",
        "X_train['Electrical'] = X_train['Electrical'].cat.rename_categories({'SBrkr': 1, 'FuseA': 2, 'FuseF': 3, 'FuseP': 4, 'Mix': 5})\n",
        "\n",
        "X_train['KitchenQual'] = X_train['KitchenQual'].astype('category')\n",
        "X_train['KitchenQual'] = X_train['KitchenQual'].cat.rename_categories({'Ex': 0, 'Gd': 1, 'TA': 2, 'Fa': 3, 'Po': 4})\n",
        "\n",
        "X_train['Functional'] = X_train['Functional'].astype('category')\n",
        "X_train['Functional'] = X_train['Functional'].cat.rename_categories({'Typ': 0, 'Min1': 1, 'Min2': 2, 'Mod': 3, 'Maj1': 4, 'Maj2': 5, 'Sev': 6, 'Sal': 7})\n",
        "\n",
        "X_train['FireplaceQu'] = X_train['FireplaceQu'].astype('category')\n",
        "X_train['FireplaceQu'] = X_train['FireplaceQu'].cat.rename_categories({'Ex': 1, 'Gd': 2, 'TA': 3, 'Fa': 4, 'Po': 5})\n",
        "\n",
        "X_train['GarageType'] = X_train['GarageType'].astype('category')\n",
        "X_train['GarageType'] = X_train['GarageType'].cat.rename_categories({'2Types': 1, 'Attchd': 2, 'Basment': 3, 'BuiltIn': 4, 'CarPort': 5, 'Detchd': 6})\n",
        "\n",
        "X_train['GarageFinish'] = X_train['GarageFinish'].astype('category')\n",
        "X_train['GarageFinish'] = X_train['GarageFinish'].cat.rename_categories({'Fin': 1, 'RFn': 2, 'Unf': 3})\n",
        "\n",
        "X_train['GarageQual'] = X_train['GarageQual'].astype('category')\n",
        "X_train['GarageQual'] = X_train['GarageQual'].cat.rename_categories({'Ex': 1, 'Gd': 2, 'TA': 3, 'Fa': 4, 'Po': 5})\n",
        "\n",
        "X_train['GarageCond'] = X_train['GarageCond'].astype('category')\n",
        "X_train['GarageCond'] = X_train['GarageCond'].cat.rename_categories({'Ex': 1, 'Gd': 2, 'TA': 3, 'Fa': 4, 'Po': 5})\n",
        "\n",
        "X_train['PavedDrive'] = X_train['PavedDrive'].astype('category')\n",
        "X_train['PavedDrive'] = X_train['PavedDrive'].cat.rename_categories({'Y': 0, 'P': 1, 'N': 2})\n",
        "\n",
        "X_train['PoolQC'] = X_train['PoolQC'].astype('category')\n",
        "X_train['PoolQC'] = X_train['PoolQC'].cat.rename_categories({'Ex': 1, 'Gd': 2, 'TA': 3, 'Fa': 4})\n",
        "\n",
        "X_train['Fence'] = X_train['Fence'].astype('category')\n",
        "X_train['Fence'] = X_train['Fence'].cat.rename_categories({'GdPrv': 1, 'MnPrv': 2, 'GdWo': 3, 'MnWw': 4})\n",
        "\n",
        "X_train['MiscFeature'] = X_train['MiscFeature'].astype('category')\n",
        "X_train['MiscFeature'] = X_train['MiscFeature'].cat.rename_categories({'Elev': 1, 'Gar2': 2, 'Othr': 3, 'Shed': 4, 'TenC': 5})\n",
        "\n",
        "X_train = X_train.drop(X_train[X_train.SaleCondition != 'Normal'].index)\n",
        "\n",
        "X_train = X_train.drop('MoSold', 1)\n",
        "X_train = X_train.drop('YrSold', 1)\n",
        "X_train = X_train.drop('SaleType', 1)\n",
        "X_train = X_train.drop('SaleCondition', 1)\n",
        "\n",
        "\n",
        "X_train = X_train.drop('Id', 1)\n"
      ],
      "execution_count": null,
      "outputs": []
    },
    {
      "cell_type": "markdown",
      "metadata": {
        "id": "qIF4P9v4af0i"
      },
      "source": [
        "# Удаление аномальных данных\n"
      ]
    },
    {
      "cell_type": "code",
      "metadata": {
        "id": "J_HYl1nBafDQ"
      },
      "source": [
        "X_train = X_train.drop(X_train[X_train.SalePrice > 450000].index)\n",
        "X_train = X_train.drop(X_train[X_train.GrLivArea > 3000].index)\n",
        "X_train = X_train.drop(X_train[X_train.MiscVal > 2600].index)\n",
        "X_train = X_train.drop(X_train[X_train.TotalBsmtSF > 3000].index)"
      ],
      "execution_count": null,
      "outputs": []
    },
    {
      "cell_type": "markdown",
      "metadata": {
        "id": "vc-4pROea5Jm"
      },
      "source": [
        "# Нормализация данных"
      ]
    },
    {
      "cell_type": "code",
      "metadata": {
        "id": "InV9iTaWCIHM"
      },
      "source": [
        "price = X_train['SalePrice'].to_numpy()\n",
        "coef = np.linalg.norm(price)\n",
        "price = price / coef;\n",
        "X_train = X_train.drop('SalePrice', 1)\n",
        "\n",
        "X_mat = np.matrix(X_train)\n",
        "\n",
        "x_scaler = MinMaxScaler()\n",
        "x_scaler.fit(X_mat)\n",
        "\n",
        "col_names = X_train.keys()\n",
        "X_train = pd.DataFrame(x_scaler.transform(X_mat), columns=col_names)\n",
        "\n",
        "X_test = X_train.iloc[1000:, :]\n",
        "X_train = X_train.iloc[:1000, :]\n",
        "\n",
        "Y_train = price[:1000]\n",
        "Y_test = price[1000:]"
      ],
      "execution_count": null,
      "outputs": []
    },
    {
      "cell_type": "code",
      "metadata": {
        "colab": {
          "base_uri": "https://localhost:8080/"
        },
        "id": "Jr3EibVm0n9p",
        "outputId": "f41b9e6c-a73b-4112-868c-f85bea468149"
      },
      "source": [
        "coef\n"
      ],
      "execution_count": null,
      "outputs": [
        {
          "output_type": "execute_result",
          "data": {
            "text/plain": [
              "6282996.531418986"
            ]
          },
          "metadata": {
            "tags": []
          },
          "execution_count": 11
        }
      ]
    },
    {
      "cell_type": "markdown",
      "metadata": {
        "id": "jrCMqZmEa9gu"
      },
      "source": [
        "# Создание модели"
      ]
    },
    {
      "cell_type": "code",
      "metadata": {
        "id": "ZwuRS2UCAzw2"
      },
      "source": [
        "model = Sequential()\n",
        "\n",
        "model.add(Dense(512, activation='relu', input_shape=(X_train.shape[1],), kernel_initializer='normal'))\n",
        "model.add(Dense(256, activation='relu', kernel_initializer='normal'))\n",
        "model.add(Dense(128, activation='relu', kernel_initializer='normal'))\n",
        "\n",
        "model.add(Dense(1, activation='linear'))"
      ],
      "execution_count": null,
      "outputs": []
    },
    {
      "cell_type": "code",
      "metadata": {
        "colab": {
          "base_uri": "https://localhost:8080/"
        },
        "id": "QPS0B3Ad-ZYz",
        "outputId": "59cd2aed-2a48-44f7-a3e9-0b7848cb5cd4"
      },
      "source": [
        "model.summary()"
      ],
      "execution_count": null,
      "outputs": [
        {
          "output_type": "stream",
          "text": [
            "Model: \"sequential_47\"\n",
            "_________________________________________________________________\n",
            "Layer (type)                 Output Shape              Param #   \n",
            "=================================================================\n",
            "dense_263 (Dense)            (None, 512)               36864     \n",
            "_________________________________________________________________\n",
            "dense_264 (Dense)            (None, 256)               131328    \n",
            "_________________________________________________________________\n",
            "dense_265 (Dense)            (None, 128)               32896     \n",
            "_________________________________________________________________\n",
            "dense_266 (Dense)            (None, 1)                 129       \n",
            "=================================================================\n",
            "Total params: 201,217\n",
            "Trainable params: 201,217\n",
            "Non-trainable params: 0\n",
            "_________________________________________________________________\n"
          ],
          "name": "stdout"
        }
      ]
    },
    {
      "cell_type": "markdown",
      "metadata": {
        "id": "mw6g_Lj1bBRa"
      },
      "source": [
        "# Обучение модели"
      ]
    },
    {
      "cell_type": "code",
      "metadata": {
        "id": "Amij9XcyA_IN",
        "colab": {
          "base_uri": "https://localhost:8080/"
        },
        "outputId": "6f82aae8-0e0e-4c46-a819-a905616c0364"
      },
      "source": [
        "model.compile(optimizer='adam', loss='mean_absolute_percentage_error')\n",
        "history = model.fit(X_train, Y_train, epochs=30, batch_size=5, verbose=2)"
      ],
      "execution_count": null,
      "outputs": [
        {
          "output_type": "stream",
          "text": [
            "Epoch 1/30\n",
            "200/200 - 1s - loss: 56.1007\n",
            "Epoch 2/30\n",
            "200/200 - 0s - loss: 18.2671\n",
            "Epoch 3/30\n",
            "200/200 - 0s - loss: 13.3020\n",
            "Epoch 4/30\n",
            "200/200 - 0s - loss: 14.1314\n",
            "Epoch 5/30\n",
            "200/200 - 0s - loss: 11.6246\n",
            "Epoch 6/30\n",
            "200/200 - 0s - loss: 10.6166\n",
            "Epoch 7/30\n",
            "200/200 - 0s - loss: 10.7603\n",
            "Epoch 8/30\n",
            "200/200 - 0s - loss: 11.2743\n",
            "Epoch 9/30\n",
            "200/200 - 0s - loss: 9.7607\n",
            "Epoch 10/30\n",
            "200/200 - 0s - loss: 8.9428\n",
            "Epoch 11/30\n",
            "200/200 - 0s - loss: 9.6686\n",
            "Epoch 12/30\n",
            "200/200 - 0s - loss: 9.8946\n",
            "Epoch 13/30\n",
            "200/200 - 0s - loss: 8.8145\n",
            "Epoch 14/30\n",
            "200/200 - 0s - loss: 8.1721\n",
            "Epoch 15/30\n",
            "200/200 - 0s - loss: 8.6785\n",
            "Epoch 16/30\n",
            "200/200 - 0s - loss: 8.6351\n",
            "Epoch 17/30\n",
            "200/200 - 0s - loss: 8.7010\n",
            "Epoch 18/30\n",
            "200/200 - 0s - loss: 8.2025\n",
            "Epoch 19/30\n",
            "200/200 - 0s - loss: 8.2721\n",
            "Epoch 20/30\n",
            "200/200 - 0s - loss: 8.7371\n",
            "Epoch 21/30\n",
            "200/200 - 0s - loss: 8.1972\n",
            "Epoch 22/30\n",
            "200/200 - 0s - loss: 7.8458\n",
            "Epoch 23/30\n",
            "200/200 - 0s - loss: 7.4952\n",
            "Epoch 24/30\n",
            "200/200 - 0s - loss: 7.5133\n",
            "Epoch 25/30\n",
            "200/200 - 0s - loss: 7.2761\n",
            "Epoch 26/30\n",
            "200/200 - 0s - loss: 7.6263\n",
            "Epoch 27/30\n",
            "200/200 - 0s - loss: 7.5971\n",
            "Epoch 28/30\n",
            "200/200 - 0s - loss: 7.3068\n",
            "Epoch 29/30\n",
            "200/200 - 0s - loss: 7.7235\n",
            "Epoch 30/30\n",
            "200/200 - 0s - loss: 6.8203\n"
          ],
          "name": "stdout"
        }
      ]
    },
    {
      "cell_type": "code",
      "metadata": {
        "colab": {
          "base_uri": "https://localhost:8080/",
          "height": 338
        },
        "id": "pf2GSH2xlpnA",
        "outputId": "fb91f69d-6f85-469e-dfed-7b986d8d2b74"
      },
      "source": [
        "pd.DataFrame(history.history).plot(figsize=(10,5))\n",
        "plt.grid(True)\n",
        "plt.show"
      ],
      "execution_count": null,
      "outputs": [
        {
          "output_type": "execute_result",
          "data": {
            "text/plain": [
              "<function matplotlib.pyplot.show>"
            ]
          },
          "metadata": {
            "tags": []
          },
          "execution_count": 232
        },
        {
          "output_type": "display_data",
          "data": {
            "image/png": "[encoded data removed]",
            "text/plain": [
              "<Figure size 720x360 with 1 Axes>"
            ]
          },
          "metadata": {
            "tags": [],
            "needs_background": "light"
          }
        }
      ]
    },
    {
      "cell_type": "markdown",
      "metadata": {
        "id": "NI69HRp-bE4d"
      },
      "source": [
        "# Предсказывание тестовых данных"
      ]
    },
    {
      "cell_type": "code",
      "metadata": {
        "id": "lK0zP6f1TbLh",
        "colab": {
          "base_uri": "https://localhost:8080/"
        },
        "outputId": "2dafbfa9-e9de-49f6-9590-05697cf110b2"
      },
      "source": [
        "pred_test = model.predict(X_test)\n",
        "pred_train = model.predict(X_train)\n",
        "model.evaluate(X_test, Y_test)\n"
      ],
      "execution_count": null,
      "outputs": [
        {
          "output_type": "stream",
          "text": [
            "6/6 [==============================] - 0s 2ms/step - loss: 8.0359\n"
          ],
          "name": "stdout"
        },
        {
          "output_type": "execute_result",
          "data": {
            "text/plain": [
              "8.035889625549316"
            ]
          },
          "metadata": {
            "tags": []
          },
          "execution_count": 233
        }
      ]
    },
    {
      "cell_type": "markdown",
      "metadata": {
        "id": "G_5pFkaHbK4N"
      },
      "source": [
        "# Анализ предсказанных цен"
      ]
    },
    {
      "cell_type": "code",
      "metadata": {
        "id": "0gOgsdc9TeFg",
        "colab": {
          "base_uri": "https://localhost:8080/"
        },
        "outputId": "0dd9cb78-4eec-45e7-8846-16674b507529"
      },
      "source": [
        "error = 0\n",
        "\n",
        "for i in range(len(pred_test)):\n",
        "  error += abs(pred_test[i]*coef - Y_test[i]*coef)\n",
        "  \n",
        "print(error / len(pred_test), \" - Cреднее відхилення від реальної ціни \")\n",
        "print(Y_test.mean() * coef, \" - Середня реальна ціна будинку \")"
      ],
      "execution_count": null,
      "outputs": [
        {
          "output_type": "stream",
          "text": [
            "[13458.943]  - Cреднее відхилення від реальної ціни \n",
            "174563.11666666667  - Середня реальна ціна будинку \n"
          ],
          "name": "stdout"
        }
      ]
    },
    {
      "cell_type": "markdown",
      "metadata": {
        "id": "xMnHAqUXcAHO"
      },
      "source": [
        "# Предсказание тренировочных данных"
      ]
    },
    {
      "cell_type": "code",
      "metadata": {
        "colab": {
          "base_uri": "https://localhost:8080/",
          "height": 283
        },
        "id": "I5cWV9lTQLpf",
        "outputId": "e5b42ed1-1c6c-40c7-bf83-1585a20cbfb5"
      },
      "source": [
        "b = plt.axes(aspect='equal')\n",
        "plt.scatter(Y_train, pred_train.flatten())\n",
        "plt.xlabel('True Values')\n",
        "plt.ylabel('Predictions')\n",
        "lims = [0, 0.1]\n",
        "plt.xlim(lims)\n",
        "plt.ylim(lims)\n",
        "_b = plt.plot(lims, lims)"
      ],
      "execution_count": null,
      "outputs": [
        {
          "output_type": "display_data",
          "data": {
            "image/png": "[encoded data removed]",
            "text/plain": [
              "<Figure size 432x288 with 1 Axes>"
            ]
          },
          "metadata": {
            "tags": [],
            "needs_background": "light"
          }
        }
      ]
    },
    {
      "cell_type": "markdown",
      "metadata": {
        "id": "4rNDPKEmcLWv"
      },
      "source": [
        "# Предсказание тестовых данных"
      ]
    },
    {
      "cell_type": "code",
      "metadata": {
        "colab": {
          "base_uri": "https://localhost:8080/",
          "height": 283
        },
        "id": "_QFoCu9KbnDw",
        "outputId": "fde46af5-bac0-429e-b9b7-838997a6931d"
      },
      "source": [
        "a = plt.axes(aspect='equal')\n",
        "plt.scatter(Y_test, pred_test.flatten())\n",
        "plt.xlabel('True Values')\n",
        "plt.ylabel('Predictions')\n",
        "lims = [0, 0.1]\n",
        "plt.xlim(lims)\n",
        "plt.ylim(lims)\n",
        "_a = plt.plot(lims, lims)"
      ],
      "execution_count": null,
      "outputs": [
        {
          "output_type": "display_data",
          "data": {
            "image/png": "[encoded data removed]",
            "text/plain": [
              "<Figure size 432x288 with 1 Axes>"
            ]
          },
          "metadata": {
            "tags": [],
            "needs_background": "light"
          }
        }
      ]
    },
    {
      "cell_type": "markdown",
      "metadata": {
        "id": "bVLHKEqrcR17"
      },
      "source": [
        "# Сохранение модели и весов"
      ]
    },
    {
      "cell_type": "code",
      "metadata": {
        "colab": {
          "base_uri": "https://localhost:8080/"
        },
        "id": "6czDT8RZixXF",
        "outputId": "5cdb2492-be8d-4690-8a27-c2f38a79ae36"
      },
      "source": [
        "model = keras.models.load_model('../content/save/model_3_m')\n",
        "model.load_weights('../content/save/model_3_w/')\n"
      ],
      "execution_count": null,
      "outputs": [
        {
          "output_type": "execute_result",
          "data": {
            "text/plain": [
              "<tensorflow.python.training.tracking.util.CheckpointLoadStatus at 0x7f1016120090>"
            ]
          },
          "metadata": {
            "tags": []
          },
          "execution_count": 19
        }
      ]
    },
    {
      "cell_type": "code",
      "metadata": {
        "id": "2iGGg3cDcSJ2",
        "colab": {
          "base_uri": "https://localhost:8080/"
        },
        "outputId": "059fde5a-f8bf-4507-c9fd-ab65ed55e460"
      },
      "source": [
        "model.save_weights('../save/model_3_w/')\n",
        "model.save('../save/model_3_m')"
      ],
      "execution_count": null,
      "outputs": [
        {
          "output_type": "stream",
          "text": [
            "INFO:tensorflow:Assets written to: ../save/model_3_m/assets\n"
          ],
          "name": "stdout"
        }
      ]
    },
    {
      "cell_type": "code",
      "metadata": {
        "colab": {
          "base_uri": "https://localhost:8080/"
        },
        "id": "2Zt9Oe9zrqFv",
        "outputId": "fb33be57-9070-4773-a388-59c941a71709"
      },
      "source": [
        "import joblib\n",
        "\n",
        "joblib.dump(x_scaler, '../content/scaler_updated.save')"
      ],
      "execution_count": null,
      "outputs": [
        {
          "output_type": "execute_result",
          "data": {
            "text/plain": [
              "['../content/scaler_updated.save']"
            ]
          },
          "metadata": {
            "tags": []
          },
          "execution_count": 7
        }
      ]
    },
    {
      "cell_type": "code",
      "metadata": {
        "id": "wUFvr-wtcZIn",
        "colab": {
          "base_uri": "https://localhost:8080/"
        },
        "outputId": "135a2aa7-dc23-40e4-d892-2562a45d969f"
      },
      "source": [
        "!tar --totals -cvf ../content/model_29_05.tar ../save/model_3_m ../save/model_3_w/"
      ],
      "execution_count": null,
      "outputs": [
        {
          "output_type": "stream",
          "text": [
            "tar: Removing leading `../' from member names\n",
            "../save/model_3_m/\n",
            "../save/model_3_m/assets/\n",
            "../save/model_3_m/keras_metadata.pb\n",
            "../save/model_3_m/saved_model.pb\n",
            "../save/model_3_m/variables/\n",
            "../save/model_3_m/variables/variables.data-00000-of-00001\n",
            "../save/model_3_m/variables/variables.index\n",
            "../save/model_3_w/\n",
            "../save/model_3_w/checkpoint\n",
            "../save/model_3_w/.index\n",
            "../save/model_3_w/.data-00000-of-00001\n",
            "Total bytes written: 4986880 (4.8MiB, 889MiB/s)\n"
          ],
          "name": "stdout"
        }
      ]
    },
    {
      "cell_type": "code",
      "metadata": {
        "colab": {
          "base_uri": "https://localhost:8080/"
        },
        "id": "EUrdBVFJijPx",
        "outputId": "cac913f6-daf9-4fa4-8514-d4fa7fa57b43"
      },
      "source": [
        "!tar -C ../content -xvf ../content/best4.tar"
      ],
      "execution_count": null,
      "outputs": [
        {
          "output_type": "stream",
          "text": [
            "save/model_3_m/\n",
            "save/model_3_m/variables/\n",
            "save/model_3_m/variables/variables.index\n",
            "save/model_3_m/variables/variables.data-00000-of-00001\n",
            "save/model_3_m/saved_model.pb\n",
            "save/model_3_m/assets/\n",
            "save/model_3_w/\n",
            "save/model_3_w/checkpoint\n",
            "save/model_3_w/.index\n",
            "save/model_3_w/.data-00000-of-00001\n"
          ],
          "name": "stdout"
        }
      ]
    },
    {
      "cell_type": "code",
      "metadata": {
        "id": "iSJtZz_Ml1wy"
      },
      "source": [
        "!rm -rf ../content/save"
      ],
      "execution_count": null,
      "outputs": []
    },
    {
      "cell_type": "code",
      "metadata": {
        "id": "aYUmajqk2Tmc"
      },
      "source": [
        "!pip install sklearn --upgrade --force"
      ],
      "execution_count": null,
      "outputs": []
    },
    {
      "cell_type": "code",
      "metadata": {
        "colab": {
          "base_uri": "https://localhost:8080/"
        },
        "id": "ZJxVvUC40RV4",
        "outputId": "0acf64d1-6037-4d9a-b872-921d470e2850"
      },
      "source": [
        "!nvidia-smi -L"
      ],
      "execution_count": null,
      "outputs": [
        {
          "output_type": "stream",
          "text": [
            "GPU 0: Tesla P4 (UUID: GPU-d8ed36c6-2a07-30fc-c403-ec0c38723bd4)\n"
          ],
          "name": "stdout"
        }
      ]
    }
  ]
}